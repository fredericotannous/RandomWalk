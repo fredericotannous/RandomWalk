{
 "cells": [
  {
   "cell_type": "code",
   "execution_count": null,
   "metadata": {},
   "outputs": [],
   "source": [
    "import matplotlib.pyplot as plt\n",
    "\n",
    "from random_walk import RandomWalk\n",
    "\n",
    "# Make a random walk, and plot the points.\n",
    "while True:\n",
    "    rw = RandomWalk(5000)\n",
    "    rw.fill_walk()\n",
    "    \n",
    "    # Set size of the plotting window.\n",
    "\n",
    "    point_numbers = list(range(rw.num_points))\n",
    "    plt.plot(rw.x_values, rw.y_values, linewidth=1, zorder=1)\n",
    "    \n",
    "    # Emphasize the first and last points\n",
    "    plt.scatter(0, 0, c='green', edgecolors='none', s=75, zorder=2)\n",
    "    plt.scatter(rw.x_values[-1], rw.y_values[-1], c='red', edgecolors='none', s=75, zorder=2)\n",
    "    \n",
    "    # Remove the axes.\n",
    "    plt.axes().get_xaxis().set_visible(False)\n",
    "    plt.axes().get_yaxis().set_visible(False)\n",
    "        \n",
    "    plt.show()\n",
    "    \n",
    "    # Keep making new walks, as long as the program is active\n",
    "    keep_running = input(\"Make another walk? (y/n): \")\n",
    "    if keep_running == 'n':y\n",
    "        break\n",
    "\n",
    "    "
   ]
  },
  {
   "cell_type": "code",
   "execution_count": null,
   "metadata": {},
   "outputs": [],
   "source": []
  }
 ],
 "metadata": {
  "kernelspec": {
   "display_name": "Python 3",
   "language": "python",
   "name": "python3"
  },
  "language_info": {
   "codemirror_mode": {
    "name": "ipython",
    "version": 3
   },
   "file_extension": ".py",
   "mimetype": "text/x-python",
   "name": "python",
   "nbconvert_exporter": "python",
   "pygments_lexer": "ipython3",
   "version": "3.7.6"
  }
 },
 "nbformat": 4,
 "nbformat_minor": 4
}
